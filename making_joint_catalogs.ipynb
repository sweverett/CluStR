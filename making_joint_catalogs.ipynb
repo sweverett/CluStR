{
 "cells": [
  {
   "cell_type": "code",
   "execution_count": null,
   "id": "b3dcb264-d03d-42ee-b8b1-ba09a421f8f5",
   "metadata": {},
   "outputs": [],
   "source": [
    "#this can be used to join 2 catalogs for a joint fit. Scaling a column is also included. "
   ]
  },
  {
   "cell_type": "code",
   "execution_count": null,
   "id": "21b58184-9f7d-4f4d-ae4f-ed491e3811a2",
   "metadata": {},
   "outputs": [],
   "source": [
    "import numpy as np\n",
    "from astropy.table import Table, join, vstack\n",
    "#open 2 files to join\n",
    "file_matcha = \"\"\n",
    "file_xmm = \"\"\n",
    "catalog_matcha = Table.read(file_matcha)\n",
    "catalog_xmm = Table.read(file_xmm)\n",
    "\n",
    "\n",
    "print(f\"The number of columns in `catalog_matcha` are {len(catalog_matcha.colnames)}\")\n",
    "print(f\"The number of rows in catalog_matcha are {len(catalog_matcha)}.\")\n",
    "print(f\"The number of rows are in catalog_xmm are {len(catalog_xmm)}.\")\n",
    "\n",
    "catalog_xmm[0:5]"
   ]
  },
  {
   "cell_type": "code",
   "execution_count": null,
   "id": "06c62f67-6871-45e8-b249-7831d9d024fd",
   "metadata": {},
   "outputs": [],
   "source": [
    "#column names must be identical to join the two catalogs with this method. Any \"unmatched\" columns will not be included in the final joint catalog. \n",
    "#make required cuts (instead of using CluStR to make cuts) for flags that are not present in both catalogs.\n",
    "#An alternative method would be to add columns to the catalogs to have all matching flags, then run it through CluStR. \n",
    "\n",
    "#General flags used.\n",
    "\n",
    "catalog_matcha2 = catalog_matcha[catalog_matcha['bad_mode'] == False]\n",
    "#CluStR will automatically delete nans, but it can be useful to do before so you know how many clusters come from each catalog\n",
    "catalog_matcha3 = catalog_matcha2[~np.isnan(catalog_matcha2[\"r2500_temperature_scaled\"])]\n",
    "catalog_matcha4 = catalog_matcha3[catalog_matcha3['edge_r2500'] == False]\n",
    "catalog_matcha5 = catalog_matcha4[catalog_matcha4['edge_bkgd'] == False]\n",
    "catalog_matcha6 = catalog_matcha5[catalog_matcha5['masked'] == False]\n",
    "catalog_matcha7 = catalog_matcha6[catalog_matcha6['overlap_r500'] == False]\n",
    "catalog_matcha8 = catalog_matcha7[catalog_matcha7['overlap_r2500'] == False]\n",
    "catalog_matcha9 = catalog_matcha8[catalog_matcha8['overlap_bkgd'] == False]\n",
    "catalog_matcha10 = catalog_matcha9[catalog_matcha9['500_kiloparsecs_SNR'] > 9.0]\n",
    "catalog_matcha11 = catalog_matcha10[catalog_matcha10['Redshift'] > 0.2]\n",
    "catalog_matcha12 = catalog_matcha11[catalog_matcha11['Redshift'] < 0.65]\n",
    "#don't forget to delete repeat clusters. \n",
    "#Sometimes the catalogs don't have the same column name for MEM_MATCH_ID, so the column name in one of the catalogs needs to be renamed first to match.\n",
    "#Edit to rename if needed: \n",
    "#catalog_xmm['MEM'].name = \"MEM_MATCH_ID\"\n",
    "#make a column for repeats. \n",
    "catalog_matcha['repeat'] = np.isin(catalog_matcha['MEM_MATCH_ID'], catalog_xmm['MEM_MATCH_ID'])\n",
    "#delete repeats\n",
    "catalog_matcha13 = catalog_matcha12[catalog_matcha12['repeat'] == False]\n",
    "\n",
    "#amount of clusters left after cuts. Make sure to use new catalog name that with the cut clusters. \n",
    "print(f\"The number of columns are {len(catalog_matcha13.colnames)}\")\n",
    "print(f\"The number of rows are {len(catalog_matcha13)}.\")\n",
    "catalog_matcha13[0:3]\n",
    "\n",
    "#repeat this for second catalog if it needs any cuts"
   ]
  },
  {
   "cell_type": "code",
   "execution_count": null,
   "id": "76475792-3435-47ed-b389-372a3bc08d6c",
   "metadata": {},
   "outputs": [],
   "source": [
    "#for when one of the catalogs needs something to be scaled, otherwise skip. \n",
    "#if using CluStR to complete the scaling relation, remember to set the pivot point to 1 and change where ln is used to log 10\n",
    "\n",
    "#from the form: log10(Tx_chandra) = a*log10(Tx_xmm) + b. \n",
    "#some algebra:\n",
    "#10^(log10(Tx_xmm) = 10^((log10(Tx_chandra) - b)/a)\n",
    "#Tx_xmm = 10^((log10(Tx_Chandra) – b)/a))\n",
    "#final relation:\n",
    "#Tx_xmm = Tx Chandra Scaled = 10^((log10(TxChandra) – b)/a))... and here it is: \n",
    "\n",
    "#catalog_chandra[\"r2500_temperature_scaled\"] = 10**(((np.log10(catalog_chandra[\"r2500_temperature\"])-b)/a))\n",
    "\n",
    "#there are alternative ways to do this scaling relation. xmm was chosen as the y value (even though its more algebra), to compare to past papers where xmm was scaled instead of chandra. "
   ]
  },
  {
   "cell_type": "code",
   "execution_count": null,
   "id": "90f036e8-61da-41b3-a736-a0a224488e8f",
   "metadata": {},
   "outputs": [],
   "source": [
    "#choose a naming convention from one of the catalogs and rename all of the columns to match. All columns you want included in the final catalog need to have the same name in each catalog. \n",
    "catalog_xmm[0:5]\n",
    "catalog_xmm.rename_column('kT','r2500_temperature')\n",
    "catalog_xmm['Z_1'].name = \"Redshift\"\n",
    "catalog_xmm['LAMBDA_CHISQ'].name = \"lambda\"\n",
    "catalog_xmm['LAMBDA_CHISQ_E'].name = \"lambda_err_low\"\n",
    "catalog_xmm['LAMBDA_CHISQ_E1'].name = \"lambda_err_high\"\n",
    "catalog_xmm['kT_p'].name = \"r2500_temperature_err_high_scaled\"\n",
    "catalog_xmm['kT_m'].name = \"r2500_temperature_err_low_scaled\"\n",
    "catalog_xmm[0:5]"
   ]
  },
  {
   "cell_type": "code",
   "execution_count": null,
   "id": "57c48b38-597a-47b2-99d2-40d434e9f7de",
   "metadata": {},
   "outputs": [],
   "source": [
    "#create an empty table. \n",
    "\n",
    "catalog_xmm_matcha = Table()\n",
    "\n",
    "#use vstack to combine the catalogs. \n",
    "catalog_xmm_matcha = vstack([catalog_xmm, catalog_matcha13],join_type='inner')\n",
    "\n",
    "print(f\"The number of columns for `catalog_matcha_detected` are {len(catalog_xmm_matcha.colnames)}\")\n",
    "print(f\"The number of rows are {len(catalog_xmm_matcha)}.\")\n",
    "\n",
    "#display table\n",
    "catalog_xmm_matcha[0:20]"
   ]
  },
  {
   "cell_type": "code",
   "execution_count": null,
   "id": "52f837b6-d763-4a83-b2bb-32aacb6601cd",
   "metadata": {},
   "outputs": [],
   "source": [
    "#save catalog. \n",
    "#if doing csv instead, remember to change the format to \"csc\"\n",
    "catalog_xmm_matcha.write(\"matcha_xmm_joint_scaled_temp_err_no_repeat_r2500_v2.fits\", format=\"fits\")"
   ]
  }
 ],
 "metadata": {
  "kernelspec": {
   "display_name": "Python 3",
   "language": "python",
   "name": "python3"
  },
  "language_info": {
   "codemirror_mode": {
    "name": "ipython",
    "version": 3
   },
   "file_extension": ".py",
   "mimetype": "text/x-python",
   "name": "python",
   "nbconvert_exporter": "python",
   "pygments_lexer": "ipython3",
   "version": "3.8.10"
  }
 },
 "nbformat": 4,
 "nbformat_minor": 5
}
