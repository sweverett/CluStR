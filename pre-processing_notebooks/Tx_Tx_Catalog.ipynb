{
 "cells": [
  {
   "cell_type": "markdown",
   "metadata": {},
   "source": [
    "# Tx_Tx\n",
    "\n",
    "The main focus of this notebook is to demonstrate how to create a Tx_Tx catalog but can also be used to generally create one single catalog from two seperate catalogs."
   ]
  },
  {
   "cell_type": "code",
   "execution_count": null,
   "metadata": {},
   "outputs": [],
   "source": [
    "import numpy as np\n",
    "from astropy.table import Table, join"
   ]
  },
  {
   "cell_type": "markdown",
   "metadata": {},
   "source": [
    "Read in the files as Astropy Tables."
   ]
  },
  {
   "cell_type": "code",
   "execution_count": null,
   "metadata": {},
   "outputs": [],
   "source": [
    "# If you have pandas, inlcude this line below. Not needed if all columns display.\n",
    "#pd.set_option('display.max_columns', None)\n",
    "\n",
    "filename_1 = \"path/to/file\"\n",
    "\n",
    "filename_2 = \"path/to/file\"\n",
    "\n",
    "catalogOne = Table.read(filename_1)\n",
    "catalogTwo = Table.read(filename_2)"
   ]
  },
  {
   "cell_type": "code",
   "execution_count": null,
   "metadata": {},
   "outputs": [],
   "source": [
    "print(f\"The number of columns in `catalogOne` are {len(catalogOne.colnames)}\")\n",
    "print(f\"The number of rows are {len(catalogOne)}.\")\n",
    "catalogOne[0:5]"
   ]
  },
  {
   "cell_type": "code",
   "execution_count": null,
   "metadata": {},
   "outputs": [],
   "source": [
    "print(f\"The number of columns in `catalogTwo` are {len(catalogTwo.colnames)}\")\n",
    "print(f\"The number of rows are {len(catalogTwo)}.\")\n",
    "catalogTwo[0:5]"
   ]
  },
  {
   "cell_type": "markdown",
   "metadata": {},
   "source": [
    "We start by cleaning our catalogs from unwanted rows/values. \n",
    "\n",
    "i.e) Previously we were interested in,\n",
    "\n",
    "* Observations that are Detected == True. \n",
    "\n",
    "* Removing observations that do not have `r2500_temperatures`"
   ]
  },
  {
   "cell_type": "code",
   "execution_count": null,
   "metadata": {},
   "outputs": [],
   "source": [
    "#catalogOne[catalogOne['Detected'] == True]\n",
    "catalogOne_detected = catalogOne[~np.isnan(catalogOne[\"r2500_temperature\"]) & catalogOne['Detected'] == True]\n",
    "\n",
    "print(f\"The number of rows are {len(catalogOne_detected)}.\")\n",
    "catalogOne_detected[0:3]"
   ]
  },
  {
   "cell_type": "markdown",
   "metadata": {},
   "source": [
    "Here we join the two tables `catalogOne_detected` and `catalogTwo` from left to right using a shared column. \n",
    "\n",
    "i.e) [a, b, c] + [a, d, e, f] --> [a, b, c, d, e, f]\n",
    "\n",
    "Note that both catalogs need to share the same column name for this method of joining. \n",
    "Another method can be used to do a similar join using `np.isin` which I use to double check if the first method is correct. "
   ]
  },
  {
   "cell_type": "code",
   "execution_count": null,
   "metadata": {},
   "outputs": [],
   "source": [
    "catalog_join = join(catalogOne_detected, catalogTwo, keys='MEM_MATCH_ID')\n",
    "\n",
    "print(f\"The number of columns for table `catalog_join` are {len(catalog_join.colnames)}.\")\n",
    "catalog_join\n",
    "print(f\"The number of rows are {len(catalog_join)}\")"
   ]
  },
  {
   "cell_type": "markdown",
   "metadata": {},
   "source": [
    "Below I use the `np.isin` method to do a similar join as the one above. In this case, what is produced is not a combination of both catalogs but rather reducing the rows of the first catalog to the number of rows shared in both based on similar column values.\n",
    "\n",
    "i.e) \n",
    "if the first value in `catalogOne['MEM_MATCH_ID']` *IS IN* `catalogTwo['MEM_MATCH_ID']`, then *KEEP* that first row in catalogOne.\n",
    "\n",
    "or \n",
    "\n",
    "if the first value `catalogOne['MEM_MATCH_ID']` *IS NOT IN* `catalogTwo['MEM_MATCH_ID']`, then *REMOVE* that row from catalogOne."
   ]
  },
  {
   "cell_type": "code",
   "execution_count": null,
   "metadata": {},
   "outputs": [],
   "source": [
    "# As a double check for the above code. We'll use a different method to join the dataframes.\n",
    "\n",
    "catalog_cross1 = catalogOne_detected[np.isin(catalogOne_detected['MEM_MATCH_ID'], catalogTwo['MEM_MATCH_ID'])]\n",
    "\n",
    "print(f'Dimensions of catalog_cross1 {len(catalog_cross1.colnames)} and {len(catalog_cross1)}.')\n",
    "\n",
    "# Do the same but in reverse.\n",
    "catalog_cross2 = catalogTwo[np.isin(catalogTwo['MEM_MATCH_ID'], catalogOne_detected['MEM_MATCH_ID'])]\n",
    "\n",
    "print(f'Dimensions of catalog_cross2 {len(catalog_cross2.colnames)} and {len(catalog_cross2)}.')\n",
    "\n",
    "# Check if results we get here are the same as the previous join method.\n",
    "if len(catalog_join) == len(catalog_cross1) and len(catalog_join) == len(catalog_cross2):\n",
    "  print(\"Yuppy!\")\n",
    "\n"
   ]
  },
  {
   "cell_type": "markdown",
   "metadata": {},
   "source": [
    "Now we're ready to start making our Tx_Tx table with columns we want. We'll be using the `catalog_join` table since it contains the columns from both catalogs and will be easier/cleaner to reference each column. \n",
    "\n",
    "Below I've left an example of columns used previously.\n",
    "\n",
    "General format is,\n",
    "\n",
    "`NewCatalogName['NewColumnName'] = JoinedCatalogName['NameOfColumn']`"
   ]
  },
  {
   "cell_type": "code",
   "execution_count": null,
   "metadata": {},
   "outputs": [],
   "source": [
    "# Create empty dataframe.\n",
    "catalog_TxOne_TxTwo = Table()\n",
    "\n",
    "# Helpful to include obs name, id, and redshifts from both catalogs.\n",
    "catalog_TxOne_TxTwo[\"Name\"] = catalog_join[\"Name\"] \n",
    "catalog_TxOne_TxTwo[\"MEM_MATCH_ID\"] = catalog_join[\"MEM_MATCH_ID\"]\n",
    "catalog_TxOne_TxTwo[\"Redshift_matcha\"] = catalog_join[\"Redshift\"]\n",
    "catalog_TxOne_TxTwo[\"Redshift_xmm\"] = catalog_join[\"Z\"]\n",
    "\n",
    "# Richness\n",
    "catalog_TxOne_TxTwo[\"Lambda_matcha\"] = catalog_join[\"lambda\"]\n",
    "catalog_TxOne_TxTwo[\"Lambda_err_low_matcha\"] = catalog_join[\"lambda_err_low\"]\n",
    "catalog_TxOne_TxTwo[\"Lambda_err_high_matcha\"] = catalog_join[\"lambda_err_high\"]\n",
    "catalog_TxOne_TxTwo[\"Lambda_xmm\"] = catalog_join[\"LAMBDA_CHISQ\"]\n",
    "catalog_TxOne_TxTwo[\"Lambda_err_xmm\"] = catalog_join[\"LAMBDA_CHISQ_E\"]\n",
    "\n",
    "# Below is the temperatures from catalogOne\n",
    "catalog_TxOne_TxTwo[\"Tx_r500_matcha\"] = catalog_join[\"r500_temperature\"]\n",
    "catalog_TxOne_TxTwo[\"Tx_r500_err_high_matcha\"] = catalog_join[\"r500_temperature_err_high\"]\n",
    "catalog_TxOne_TxTwo[\"Tx_r500_err_low_matcha\"] = catalog_join[\"r500_temperature_err_low\"]\n",
    "\n",
    "# Below is the r500 temperatures from catalogOne\n",
    "##catalog_TxOne_TxTwo[\"Tx_r500_err_high_matcha\"] = catalog_join[\"r500_temperature_err_high\"]\n",
    "#catalog_TxOne_TxTwo[\"Tx_r500_err_low_matcha\"] = catalog_join[\"r500_temperature_err_low\"]\n",
    "\n",
    "# Below is the Tx from catalogTwo\n",
    "catalog_TxOne_TxTwo[\"Tx_r500_xmm\"] = catalog_join[\"kT\"]\n",
    "catalog_TxOne_TxTwo[\"Tx_r500_err_high_xmm\"] = catalog_join[\"kT_p\"]\n",
    "catalog_TxOne_TxTwo[\"Tx_r500_err_low_xmm\"] = catalog_join[\"kT_m\"]\n",
    "\n",
    "# Below is the SNR columns from both catalogs\n",
    "# catalog_TxOne_TxTwo[\"r2500_SNR_matcha\"] = catalog_join[\"r2500_SNR\"]\n",
    "catalog_TxOne_TxTwo[\"r500_SNR_matcha\"] = catalog_join[\"r500_SNR\"]\n",
    "catalog_TxOne_TxTwo[\"r500_PNSNR_alt_xmm\"] = catalog_join[\"pnsnr_alt\"]\n",
    "\n",
    "# Show table with dimensions.\n",
    "print(f\"The dimensions of catalog_TxOne_TxTwo are {len(catalog_TxOne_TxTwo.colnames)} and {len(catalog_TxOne_TxTwo)}.\")\n",
    "\n",
    "# Display entire catalog.\n",
    "catalog_TxOne_TxTwo"
   ]
  },
  {
   "cell_type": "markdown",
   "metadata": {},
   "source": [
    "Great! Now we have our new catalog. Let's save it!\n",
    "Make sure to replace `filename.fits` below with a name for your new catalog."
   ]
  },
  {
   "cell_type": "code",
   "execution_count": null,
   "metadata": {},
   "outputs": [],
   "source": [
    "catalog_TxOne_TxTwo.write(\"path/to/desired/directory/filename.fits\", format=\"fits\")"
   ]
  },
  {
   "cell_type": "markdown",
   "metadata": {},
   "source": [
    "Done!"
   ]
  }
 ],
 "metadata": {
  "interpreter": {
   "hash": "dfec89b7bec16b75df1d87b08c153e969a16d059d6bb68847d69dcd02514d398"
  },
  "kernelspec": {
   "display_name": "Python 3.7.1 64-bit ('base': conda)",
   "name": "python3"
  },
  "language_info": {
   "codemirror_mode": {
    "name": "ipython",
    "version": 3
   },
   "file_extension": ".py",
   "mimetype": "text/x-python",
   "name": "python",
   "nbconvert_exporter": "python",
   "pygments_lexer": "ipython3",
   "version": "3.7.6"
  },
  "orig_nbformat": 2
 },
 "nbformat": 4,
 "nbformat_minor": 2
}
